{
 "cells": [
  {
   "cell_type": "code",
   "execution_count": null,
   "id": "9495081f",
   "metadata": {},
   "outputs": [],
   "source": [
    "from gbfs.services import SystemDiscoveryService\n",
    "import pandas as pd"
   ]
  },
  {
   "cell_type": "code",
   "execution_count": null,
   "id": "bebfbb2f",
   "metadata": {},
   "outputs": [],
   "source": [
    "ds = SystemDiscoveryService()"
   ]
  },
  {
   "cell_type": "code",
   "execution_count": null,
   "id": "17275330",
   "metadata": {},
   "outputs": [],
   "source": [
    "[x.get('System ID') for x in ds.systems if 'Los Angeles, CA' in x.get('Location')]"
   ]
  },
  {
   "cell_type": "code",
   "execution_count": null,
   "id": "646cfa35",
   "metadata": {},
   "outputs": [],
   "source": [
    "[x.get('System ID') for x in ds.systems if 'San Diego, CA' in x.get('Location')]"
   ]
  },
  {
   "cell_type": "code",
   "execution_count": null,
   "id": "4c7586ea",
   "metadata": {},
   "outputs": [],
   "source": [
    "client = ds.instantiate_client('spin uc_san_diego')"
   ]
  },
  {
   "cell_type": "code",
   "execution_count": null,
   "id": "e45887c1",
   "metadata": {},
   "outputs": [],
   "source": [
    "client.feed_names"
   ]
  },
  {
   "cell_type": "code",
   "execution_count": null,
   "id": "beb96e56",
   "metadata": {},
   "outputs": [],
   "source": [
    "result = client.request_feed('free_bike_status')"
   ]
  },
  {
   "cell_type": "code",
   "execution_count": null,
   "id": "d82fd10d",
   "metadata": {},
   "outputs": [],
   "source": [
    "result[\"last_updated\"]"
   ]
  },
  {
   "cell_type": "code",
   "execution_count": null,
   "id": "fd6af846",
   "metadata": {},
   "outputs": [],
   "source": [
    "pd.DataFrame(result[\"data\"][\"bikes\"])"
   ]
  },
  {
   "cell_type": "code",
   "execution_count": null,
   "id": "3e7fb731",
   "metadata": {},
   "outputs": [],
   "source": [
    "from glob import glob"
   ]
  },
  {
   "cell_type": "code",
   "execution_count": null,
   "id": "86e9c6ac",
   "metadata": {},
   "outputs": [],
   "source": [
    "data = []\n",
    "for i in glob(\"SanDiegoGBFS/*.csv\"):\n",
    "    x = pd.read_csv(i).set_index(\"bike_id\")\n",
    "    timestamp = pd.to_datetime(i.split(\"/\")[1].split(\".\")[0])\n",
    "    x[timestamp] = x.apply(lambda x: (x[\"lat\"], x[\"lon\"]), axis=1)\n",
    "    data.append(x[[timestamp]])\n",
    "\n",
    "aggregated_data = pd.concat(data, axis=1).T.sort_index()"
   ]
  },
  {
   "cell_type": "code",
   "execution_count": null,
   "id": "2a2508c1",
   "metadata": {},
   "outputs": [],
   "source": [
    "aggregated_data"
   ]
  },
  {
   "cell_type": "code",
   "execution_count": null,
   "id": "0425f481",
   "metadata": {},
   "outputs": [],
   "source": [
    "def get_distance(df):\n",
    "    distances = []\n",
    "    values = df.dropna()\n",
    "    for a,b in zip(values[:-1], values[1:]):\n",
    "        distances.append([a,b,distance.distance(a,b).m])\n",
    "    new_df = pd.DataFrame(distances, columns=[\"Start\",\"End\",\"Distance\"])\n",
    "    return new_df[new_df.Distance > 30]\n",
    "\n",
    "all_trips = []\n",
    "for scooter in aggregated_data.columns:\n",
    "    scooter_trace = aggregated_data[scooter].copy()\n",
    "    trips = get_distance(scooter_trace)\n",
    "    if len(trips) > 0:\n",
    "        all_trips.append(trips)\n"
   ]
  },
  {
   "cell_type": "code",
   "execution_count": null,
   "id": "aecb692c",
   "metadata": {},
   "outputs": [],
   "source": [
    "all_trips = pd.concat(all_trips)"
   ]
  },
  {
   "cell_type": "code",
   "execution_count": null,
   "id": "caddc773",
   "metadata": {},
   "outputs": [],
   "source": [
    "all_trips.Distance.hist(bins=100)"
   ]
  },
  {
   "cell_type": "code",
   "execution_count": null,
   "id": "561a9fda",
   "metadata": {
    "scrolled": false
   },
   "outputs": [],
   "source": [
    "import mplleaflet\n",
    "from matplotlib import pyplot as plt\n",
    "\n",
    "fig = plt.figure(figsize=[20,20])\n",
    "ax = fig.gca()\n",
    "for scooter in aggregated_data.columns[:10]:\n",
    "    tmp = aggregated_data[[scooter]].copy().dropna().drop_duplicates()\n",
    "    \n",
    "    ax = tmp.plot.line(x=\"lon\", y=\"lat\",style='-o', ax=ax)\n",
    "mplleaflet.display()"
   ]
  },
  {
   "cell_type": "code",
   "execution_count": null,
   "id": "28e0a9b8",
   "metadata": {},
   "outputs": [],
   "source": [
    "trips = []\n",
    "for scooter in aggregated_data.columns:\n",
    "    tmp = aggregated_data[[scooter]].copy()\n",
    "    if (tmp.isna().any()[0]):\n",
    "        tmp = aggregated_data[[scooter]].copy().dropna().drop_duplicates()\n",
    "        tmp[\"lat\"] = tmp.apply(lambda x: x[0][0],axis=1)\n",
    "        tmp[\"lon\"] = tmp.apply(lambda x: x[0][1],axis=1)\n",
    "        ddf = tmp.copy()\n",
    "        ddf[\"lat_1\"] = ddf[\"lat\"].shift(-1)\n",
    "        ddf[\"lon_1\"] = ddf[\"lon\"].shift(-1)\n",
    "        ddf = ddf.dropna()\n",
    "        if len(ddf) > 0:\n",
    "            ddf[\"distance\"] = ddf.apply(lambda x: distance.distance([x[\"lat\"],x[\"lon\"]],[x[\"lat_1\"],x[\"lon_1\"]]).m, axis=1)\n",
    "            if((ddf[\"distance\"]>10).any()):\n",
    "                ax = ddf.plot.line(x=\"lon\", y=\"lat\",style='-o', ax=ax)\n",
    "                tmp = ddf[ddf.distance>10].reset_index()[[\"index\",\"lat\",\"lon\",\"lat_1\",\"lon_1\",\"distance\"]]\n",
    "                for i, r in tmp.iterrows():\n",
    "                    tmp = r.to_dict()\n",
    "                    tmp[\"bike\"] =  ddf.columns[0]\n",
    "                    trips.append(tmp)"
   ]
  },
  {
   "cell_type": "code",
   "execution_count": null,
   "id": "a4b1059d",
   "metadata": {},
   "outputs": [],
   "source": [
    "trips"
   ]
  },
  {
   "cell_type": "code",
   "execution_count": null,
   "id": "39d52c13",
   "metadata": {},
   "outputs": [],
   "source": [
    "pd.DataFrame(trips)"
   ]
  },
  {
   "cell_type": "code",
   "execution_count": null,
   "id": "aabb6588",
   "metadata": {},
   "outputs": [],
   "source": [
    "from gbfs.services import SystemDiscoveryService\n",
    "import pandas as pd\n",
    "from time import sleep\n",
    "\n",
    "ds = SystemDiscoveryService()\n",
    "providers = ['lyft_san', 'Link_San_Diego', 'spin san_diego', 'spin uc_san_diego']\n",
    "clients = [[provider, ds.instantiate_client(provider)] for provider in providers]\n",
    "while(True):\n",
    "    for provider, client in clients:\n",
    "        result = client.request_feed('free_bike_status')\n",
    "        df = pd.DataFrame(result[\"data\"][\"bikes\"])\n",
    "        df.to_csv(f'{provider}_{result[\"last_updated\"]}.csv.tar.gz')\n",
    "    sleep(30)"
   ]
  },
  {
   "cell_type": "code",
   "execution_count": null,
   "id": "b517bf73",
   "metadata": {},
   "outputs": [],
   "source": []
  }
 ],
 "metadata": {
  "kernelspec": {
   "display_name": "Python 3",
   "language": "python",
   "name": "python3"
  },
  "language_info": {
   "codemirror_mode": {
    "name": "ipython",
    "version": 3
   },
   "file_extension": ".py",
   "mimetype": "text/x-python",
   "name": "python",
   "nbconvert_exporter": "python",
   "pygments_lexer": "ipython3",
   "version": "3.10.4"
  }
 },
 "nbformat": 4,
 "nbformat_minor": 5
}
